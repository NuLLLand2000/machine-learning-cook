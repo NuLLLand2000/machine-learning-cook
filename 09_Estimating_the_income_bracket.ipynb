{
 "cells": [
  {
   "cell_type": "markdown",
   "source": [
    "# 收入等级评估"
   ],
   "metadata": {
    "collapsed": false
   }
  },
  {
   "cell_type": "code",
   "execution_count": 10,
   "metadata": {
    "collapsed": true
   },
   "outputs": [],
   "source": [
    "import numpy as np\n",
    "from sklearn import preprocessing\n",
    "from sklearn.naive_bayes import GaussianNB"
   ]
  },
  {
   "cell_type": "code",
   "execution_count": 12,
   "outputs": [
    {
     "data": {
      "text/plain": "[]"
     },
     "execution_count": 12,
     "metadata": {},
     "output_type": "execute_result"
    }
   ],
   "source": [
    "file_path = './data/adult.txt'\n",
    "X, y = [], []\n",
    "count_lessthan50k = 0\n",
    "count_morethan50k = 0\n",
    "num_images_threshould = 10000\n",
    "\n",
    "with open(file_path, 'r') as f:\n",
    "    for line in f.readlines():\n",
    "        if '?' in line:\n",
    "            continue\n",
    "        data = line[:-1].split(', ')  # 相当于读取了一条X, 索引为[:-1]是避免了读取到\\n\n",
    "        if data[-1] == '<=50k' and count_lessthan50k < num_images_threshould:\n",
    "            X.append(data)\n",
    "            count_lessthan50k += 1\n",
    "        elif data[-1] == '>50k' and count_morethan50k < num_images_threshould:\n",
    "            X.append(data)\n",
    "            count_morethan50k += 1\n",
    "        if count_lessthan50k >= num_images_threshould and count_morethan50k >= num_images_threshould:\n",
    "            break\n",
    "X\n"
   ],
   "metadata": {
    "collapsed": false,
    "pycharm": {
     "name": "#%%\n"
    }
   }
  },
  {
   "cell_type": "code",
   "execution_count": 11,
   "outputs": [],
   "source": [],
   "metadata": {
    "collapsed": false,
    "pycharm": {
     "name": "#%%\n"
    }
   }
  }
 ],
 "metadata": {
  "kernelspec": {
   "display_name": "Python 3",
   "language": "python",
   "name": "python3"
  },
  "language_info": {
   "codemirror_mode": {
    "name": "ipython",
    "version": 2
   },
   "file_extension": ".py",
   "mimetype": "text/x-python",
   "name": "python",
   "nbconvert_exporter": "python",
   "pygments_lexer": "ipython2",
   "version": "2.7.6"
  }
 },
 "nbformat": 4,
 "nbformat_minor": 0
}