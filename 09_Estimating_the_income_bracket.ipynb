{
 "cells": [
  {
   "cell_type": "markdown",
   "source": [
    "# 收入等级评估"
   ],
   "metadata": {
    "collapsed": false
   }
  },
  {
   "cell_type": "code",
   "execution_count": 53,
   "metadata": {
    "collapsed": true
   },
   "outputs": [],
   "source": [
    "import numpy as np\n",
    "import pandas as pd\n",
    "from sklearn import preprocessing\n",
    "from sklearn import model_selection\n",
    "from sklearn.naive_bayes import GaussianNB"
   ]
  },
  {
   "cell_type": "code",
   "execution_count": 50,
   "outputs": [
    {
     "data": {
      "text/plain": "(17508, 15)"
     },
     "execution_count": 50,
     "metadata": {},
     "output_type": "execute_result"
    }
   ],
   "source": [
    "file_path = './data/adult.csv'\n",
    "X, y = [], []\n",
    "count_lessthan50k = 0\n",
    "count_morethan50k = 0\n",
    "num_images_threshould = 10000\n",
    "\n",
    "with open(file_path, 'r') as f:\n",
    "    for line in f.readlines():\n",
    "        if '?' in line:\n",
    "            continue\n",
    "        data = line[:-1].split(', ')  # 相当于读取了一条X, 索引为[:-1]是避免了读取到\\n\n",
    "        if data[-1] == '<=50K' and count_lessthan50k < num_images_threshould:\n",
    "            X.append(data)\n",
    "            count_lessthan50k += 1\n",
    "        elif data[-1] == '>50K' and count_morethan50k < num_images_threshould:\n",
    "            X.append(data)\n",
    "            count_morethan50k += 1\n",
    "        if count_lessthan50k >= num_images_threshould and count_morethan50k >= num_images_threshould:\n",
    "            break\n",
    "X = np.array(X)\n",
    "X.shape"
   ],
   "metadata": {
    "collapsed": false,
    "pycharm": {
     "name": "#%%\n"
    }
   }
  },
  {
   "cell_type": "markdown",
   "source": [
    "### Convert string to numerical data"
   ],
   "metadata": {
    "collapsed": false
   }
  },
  {
   "cell_type": "code",
   "execution_count": 52,
   "outputs": [
    {
     "data": {
      "text/plain": "array([[    39,      5,  77516, ...,      0,     40,     37],\n       [    50,      4,  83311, ...,      0,     13,     37],\n       [    38,      2, 215646, ...,      0,     40,     37],\n       ...,\n       [    53,      2, 321865, ...,      0,     40,     37],\n       [    40,      2, 154374, ...,      0,     40,     37],\n       [    52,      3, 287927, ...,      0,     40,     37]])"
     },
     "execution_count": 52,
     "metadata": {},
     "output_type": "execute_result"
    }
   ],
   "source": [
    "label_encoder = []\n",
    "X_encoded = np.empty(X.shape)\n",
    "for i, item in enumerate(X[0]):\n",
    "    if item.isdigit():\n",
    "        X_encoded[:, i] = X[:, i]\n",
    "    else:\n",
    "        label_encoder.append(preprocessing.LabelEncoder())\n",
    "        X_encoded[:, i] = label_encoder[-1].fit_transform(X[:, i])\n",
    "X = X_encoded[:, :-1].astype(int)\n",
    "y = X_encoded[:, -1].astype(int)\n",
    "X"
   ],
   "metadata": {
    "collapsed": false,
    "pycharm": {
     "name": "#%%\n"
    }
   }
  },
  {
   "cell_type": "markdown",
   "source": [
    "### Split the data into training and testing"
   ],
   "metadata": {
    "collapsed": false
   }
  },
  {
   "cell_type": "code",
   "execution_count": 54,
   "outputs": [
    {
     "data": {
      "text/plain": "array([0, 0, 0, ..., 0, 0, 0])"
     },
     "execution_count": 54,
     "metadata": {},
     "output_type": "execute_result"
    }
   ],
   "source": [
    "# Cross validation\n",
    "X_train, X_test, y_train, y_test = model_selection.train_test_split(\n",
    "    X,\n",
    "    y,\n",
    "    test_size=0.25,\n",
    "    random_state=5\n",
    ")\n",
    "cf_gb = GaussianNB()\n",
    "cf_gb.fit(X_train, y_train)\n",
    "y_test_pred = cf_gb.predict(X_test)\n",
    "y_test_pred"
   ],
   "metadata": {
    "collapsed": false,
    "pycharm": {
     "name": "#%%\n"
    }
   }
  },
  {
   "cell_type": "markdown",
   "source": [
    "### Extrac performance metrics"
   ],
   "metadata": {
    "collapsed": false
   }
  },
  {
   "cell_type": "code",
   "execution_count": 55,
   "outputs": [
    {
     "name": "stdout",
     "output_type": "stream",
     "text": [
      "f1 score =  63.05876347570389 %\n"
     ]
    }
   ],
   "source": [
    "# F1 score\n",
    "f1 = model_selection.cross_val_score(\n",
    "    estimator=cf_gb,\n",
    "    X=X,\n",
    "    y=y,\n",
    "    scoring='f1_weighted',\n",
    "    cv=5\n",
    ")\n",
    "\n",
    "print('f1 score = ', 100 * f1.mean(), '%')"
   ],
   "metadata": {
    "collapsed": false,
    "pycharm": {
     "name": "#%%\n"
    }
   }
  },
  {
   "cell_type": "markdown",
   "source": [
    "### 对于单条数据，分类器的工作方式"
   ],
   "metadata": {
    "collapsed": false
   }
  },
  {
   "cell_type": "code",
   "execution_count": 61,
   "outputs": [
    {
     "name": "stdout",
     "output_type": "stream",
     "text": [
      "分类出的数值形式为 [0]\n",
      "分类出的原始string为 <=50K\n"
     ]
    }
   ],
   "source": [
    "in_data = ['39', 'State-gov', '77516', 'Bachelors', '13', 'Never-married', 'Adm-clerical', 'Not-in-family', 'White', 'Male', '2174', '0', '40', 'United-States']\n",
    "\n",
    "# 转换为数值形式\n",
    "count = 0\n",
    "in_data_encoded = [-1] * len(in_data)\n",
    "for i, item in enumerate(in_data):\n",
    "    if item.isdigit():\n",
    "        in_data_encoded[i] = int(in_data[i])\n",
    "    else:\n",
    "        in_data_encoded[i] = int(label_encoder[count].transform([in_data[i]]))\n",
    "        count += 1\n",
    "in_data_encoded = np.array(in_data_encoded)\n",
    "\n",
    "# 进行分类\n",
    "output_class = cf_gb.predict([in_data_encoded])\n",
    "print('分类出的数值形式为', output_class)\n",
    "print('分类出的原始string为', label_encoder[-1].inverse_transform(output_class)[0])"
   ],
   "metadata": {
    "collapsed": false,
    "pycharm": {
     "name": "#%%\n"
    }
   }
  }
 ],
 "metadata": {
  "kernelspec": {
   "display_name": "Python 3",
   "language": "python",
   "name": "python3"
  },
  "language_info": {
   "codemirror_mode": {
    "name": "ipython",
    "version": 2
   },
   "file_extension": ".py",
   "mimetype": "text/x-python",
   "name": "python",
   "nbconvert_exporter": "python",
   "pygments_lexer": "ipython2",
   "version": "2.7.6"
  }
 },
 "nbformat": 4,
 "nbformat_minor": 0
}