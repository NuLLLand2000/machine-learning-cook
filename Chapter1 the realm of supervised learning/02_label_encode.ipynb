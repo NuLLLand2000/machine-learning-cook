{
 "cells": [
  {
   "cell_type": "markdown",
   "source": [
    "# 监督学习中的对标签进行编码"
   ],
   "metadata": {
    "collapsed": false
   }
  },
  {
   "cell_type": "code",
   "execution_count": 1,
   "metadata": {
    "collapsed": true
   },
   "outputs": [],
   "source": [
    "import numpy as np\n",
    "import pandas as pd\n",
    "from sklearn import preprocessing"
   ]
  },
  {
   "cell_type": "markdown",
   "source": [
    "根据标签得到分类的数字"
   ],
   "metadata": {
    "collapsed": false
   }
  },
  {
   "cell_type": "code",
   "execution_count": 5,
   "outputs": [
    {
     "name": "stdout",
     "output_type": "stream",
     "text": [
      "[9 0 4 2 8 5 7 1 6 3]\n"
     ]
    }
   ],
   "source": [
    "mnist_labels = ['零', '一', '二', '三', '四', '五', '六', '七', '八', '九']\n",
    "\n",
    "label_encoder = preprocessing.LabelEncoder()\n",
    "label_encoder.fit(mnist_labels)\n",
    "\n",
    "encoded_labels = label_encoder.transform(mnist_labels)\n",
    "print(encoded_labels)"
   ],
   "metadata": {
    "collapsed": false,
    "pycharm": {
     "name": "#%%\n"
    }
   }
  },
  {
   "cell_type": "markdown",
   "source": [
    "根据数字得到分类的标签"
   ],
   "metadata": {
    "collapsed": false
   }
  },
  {
   "cell_type": "code",
   "execution_count": 6,
   "outputs": [
    {
     "name": "stdout",
     "output_type": "stream",
     "text": [
      "['一' '七' '三' '九' '二' '五' '五']\n"
     ]
    }
   ],
   "source": [
    "test_labels = [0, 1, 2, 3, 4, 5, 5]\n",
    "decode_labels = label_encoder.inverse_transform(test_labels)\n",
    "print(decode_labels)"
   ],
   "metadata": {
    "collapsed": false,
    "pycharm": {
     "name": "#%%\n"
    }
   }
  }
 ],
 "metadata": {
  "kernelspec": {
   "display_name": "Python 3",
   "language": "python",
   "name": "python3"
  },
  "language_info": {
   "codemirror_mode": {
    "name": "ipython",
    "version": 2
   },
   "file_extension": ".py",
   "mimetype": "text/x-python",
   "name": "python",
   "nbconvert_exporter": "python",
   "pygments_lexer": "ipython2",
   "version": "2.7.6"
  }
 },
 "nbformat": 4,
 "nbformat_minor": 0
}