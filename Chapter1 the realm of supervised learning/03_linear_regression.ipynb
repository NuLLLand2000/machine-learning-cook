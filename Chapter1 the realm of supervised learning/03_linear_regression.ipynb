{
 "cells": [
  {
   "cell_type": "markdown",
   "source": [
    "# 线性回归"
   ],
   "metadata": {
    "collapsed": false
   }
  },
  {
   "cell_type": "code",
   "execution_count": 1,
   "metadata": {
    "collapsed": true
   },
   "outputs": [],
   "source": [
    "import numpy as np\n",
    "import pandas as pd\n",
    "from sklearn import linear_model\n",
    "from sklearn import preprocessing\n",
    "from matplotlib import pyplot as plt"
   ]
  },
  {
   "cell_type": "code",
   "execution_count": 2,
   "outputs": [
    {
     "data": {
      "text/plain": "    Country  Age  Salary Purchased\n0    France   44   72000        No\n1     Spain   27   48000       Yes\n2   Germany   30   54000        No\n3     Spain   38   61000        No\n4   Germany   40   32000       Yes\n5    France   35   58000       Yes\n6     Spain   32   52000        No\n7    France   48   79000       Yes\n8   Germany   50   83000        No\n9    France   37   67000       Yes\n10   France   38   68000       Yes\n11   France   39   69000        No\n12   France   34   57000       Yes\n13   France   45   87000        No\n14   France   35   35000       Yes\n15   France   25   45000       Yes\n16   France   29   28000        No\n17   France   37   49000       Yes",
      "text/html": "<div>\n<style scoped>\n    .dataframe tbody tr th:only-of-type {\n        vertical-align: middle;\n    }\n\n    .dataframe tbody tr th {\n        vertical-align: top;\n    }\n\n    .dataframe thead th {\n        text-align: right;\n    }\n</style>\n<table border=\"1\" class=\"dataframe\">\n  <thead>\n    <tr style=\"text-align: right;\">\n      <th></th>\n      <th>Country</th>\n      <th>Age</th>\n      <th>Salary</th>\n      <th>Purchased</th>\n    </tr>\n  </thead>\n  <tbody>\n    <tr>\n      <th>0</th>\n      <td>France</td>\n      <td>44</td>\n      <td>72000</td>\n      <td>No</td>\n    </tr>\n    <tr>\n      <th>1</th>\n      <td>Spain</td>\n      <td>27</td>\n      <td>48000</td>\n      <td>Yes</td>\n    </tr>\n    <tr>\n      <th>2</th>\n      <td>Germany</td>\n      <td>30</td>\n      <td>54000</td>\n      <td>No</td>\n    </tr>\n    <tr>\n      <th>3</th>\n      <td>Spain</td>\n      <td>38</td>\n      <td>61000</td>\n      <td>No</td>\n    </tr>\n    <tr>\n      <th>4</th>\n      <td>Germany</td>\n      <td>40</td>\n      <td>32000</td>\n      <td>Yes</td>\n    </tr>\n    <tr>\n      <th>5</th>\n      <td>France</td>\n      <td>35</td>\n      <td>58000</td>\n      <td>Yes</td>\n    </tr>\n    <tr>\n      <th>6</th>\n      <td>Spain</td>\n      <td>32</td>\n      <td>52000</td>\n      <td>No</td>\n    </tr>\n    <tr>\n      <th>7</th>\n      <td>France</td>\n      <td>48</td>\n      <td>79000</td>\n      <td>Yes</td>\n    </tr>\n    <tr>\n      <th>8</th>\n      <td>Germany</td>\n      <td>50</td>\n      <td>83000</td>\n      <td>No</td>\n    </tr>\n    <tr>\n      <th>9</th>\n      <td>France</td>\n      <td>37</td>\n      <td>67000</td>\n      <td>Yes</td>\n    </tr>\n    <tr>\n      <th>10</th>\n      <td>France</td>\n      <td>38</td>\n      <td>68000</td>\n      <td>Yes</td>\n    </tr>\n    <tr>\n      <th>11</th>\n      <td>France</td>\n      <td>39</td>\n      <td>69000</td>\n      <td>No</td>\n    </tr>\n    <tr>\n      <th>12</th>\n      <td>France</td>\n      <td>34</td>\n      <td>57000</td>\n      <td>Yes</td>\n    </tr>\n    <tr>\n      <th>13</th>\n      <td>France</td>\n      <td>45</td>\n      <td>87000</td>\n      <td>No</td>\n    </tr>\n    <tr>\n      <th>14</th>\n      <td>France</td>\n      <td>35</td>\n      <td>35000</td>\n      <td>Yes</td>\n    </tr>\n    <tr>\n      <th>15</th>\n      <td>France</td>\n      <td>25</td>\n      <td>45000</td>\n      <td>Yes</td>\n    </tr>\n    <tr>\n      <th>16</th>\n      <td>France</td>\n      <td>29</td>\n      <td>28000</td>\n      <td>No</td>\n    </tr>\n    <tr>\n      <th>17</th>\n      <td>France</td>\n      <td>37</td>\n      <td>49000</td>\n      <td>Yes</td>\n    </tr>\n  </tbody>\n</table>\n</div>"
     },
     "execution_count": 2,
     "metadata": {},
     "output_type": "execute_result"
    }
   ],
   "source": [
    "# 查看原始测试数据\n",
    "data = pd.read_csv('data/purchased_data.csv')\n",
    "data"
   ],
   "metadata": {
    "collapsed": false,
    "pycharm": {
     "name": "#%%\n"
    }
   }
  },
  {
   "cell_type": "markdown",
   "source": [
    "方便起见，仅仅建立Salary和Purchased的线性模型"
   ],
   "metadata": {
    "collapsed": false
   }
  },
  {
   "cell_type": "code",
   "execution_count": 3,
   "outputs": [
    {
     "data": {
      "text/plain": "    Age  Salary\n0    44   72000\n1    27   48000\n2    30   54000\n3    38   61000\n4    40   32000\n5    35   58000\n6    32   52000\n7    48   79000\n8    50   83000\n9    37   67000\n10   38   68000\n11   39   69000\n12   34   57000\n13   45   87000\n14   35   35000\n15   25   45000\n16   29   28000\n17   37   49000",
      "text/html": "<div>\n<style scoped>\n    .dataframe tbody tr th:only-of-type {\n        vertical-align: middle;\n    }\n\n    .dataframe tbody tr th {\n        vertical-align: top;\n    }\n\n    .dataframe thead th {\n        text-align: right;\n    }\n</style>\n<table border=\"1\" class=\"dataframe\">\n  <thead>\n    <tr style=\"text-align: right;\">\n      <th></th>\n      <th>Age</th>\n      <th>Salary</th>\n    </tr>\n  </thead>\n  <tbody>\n    <tr>\n      <th>0</th>\n      <td>44</td>\n      <td>72000</td>\n    </tr>\n    <tr>\n      <th>1</th>\n      <td>27</td>\n      <td>48000</td>\n    </tr>\n    <tr>\n      <th>2</th>\n      <td>30</td>\n      <td>54000</td>\n    </tr>\n    <tr>\n      <th>3</th>\n      <td>38</td>\n      <td>61000</td>\n    </tr>\n    <tr>\n      <th>4</th>\n      <td>40</td>\n      <td>32000</td>\n    </tr>\n    <tr>\n      <th>5</th>\n      <td>35</td>\n      <td>58000</td>\n    </tr>\n    <tr>\n      <th>6</th>\n      <td>32</td>\n      <td>52000</td>\n    </tr>\n    <tr>\n      <th>7</th>\n      <td>48</td>\n      <td>79000</td>\n    </tr>\n    <tr>\n      <th>8</th>\n      <td>50</td>\n      <td>83000</td>\n    </tr>\n    <tr>\n      <th>9</th>\n      <td>37</td>\n      <td>67000</td>\n    </tr>\n    <tr>\n      <th>10</th>\n      <td>38</td>\n      <td>68000</td>\n    </tr>\n    <tr>\n      <th>11</th>\n      <td>39</td>\n      <td>69000</td>\n    </tr>\n    <tr>\n      <th>12</th>\n      <td>34</td>\n      <td>57000</td>\n    </tr>\n    <tr>\n      <th>13</th>\n      <td>45</td>\n      <td>87000</td>\n    </tr>\n    <tr>\n      <th>14</th>\n      <td>35</td>\n      <td>35000</td>\n    </tr>\n    <tr>\n      <th>15</th>\n      <td>25</td>\n      <td>45000</td>\n    </tr>\n    <tr>\n      <th>16</th>\n      <td>29</td>\n      <td>28000</td>\n    </tr>\n    <tr>\n      <th>17</th>\n      <td>37</td>\n      <td>49000</td>\n    </tr>\n  </tbody>\n</table>\n</div>"
     },
     "execution_count": 3,
     "metadata": {},
     "output_type": "execute_result"
    }
   ],
   "source": [
    "data = data.drop(['Country', 'Purchased'], axis=1)\n",
    "data"
   ],
   "metadata": {
    "collapsed": false,
    "pycharm": {
     "name": "#%%\n"
    }
   }
  },
  {
   "cell_type": "markdown",
   "source": [
    "分离获取X和y数据"
   ],
   "metadata": {
    "collapsed": false
   }
  },
  {
   "cell_type": "code",
   "execution_count": 4,
   "outputs": [
    {
     "name": "stdout",
     "output_type": "stream",
     "text": [
      "X [44 27 30 38 40 35 32 48 50 37 38 39 34 45 35 25 29 37]\n",
      "y[72000 48000 54000 61000 32000 58000 52000 79000 83000 67000 68000 69000\n",
      " 57000 87000 35000 45000 28000 49000]\n"
     ]
    }
   ],
   "source": [
    "X = data['Age'].values.flatten()\n",
    "y = data['Salary'].values.flatten() # 必须是1d拉平的非矩阵形式\n",
    "print('X {}\\ny{}'.format(X, y))  # 0: No, 1: Yes"
   ],
   "metadata": {
    "collapsed": false,
    "pycharm": {
     "name": "#%%\n"
    }
   }
  },
  {
   "cell_type": "markdown",
   "source": [
    "划分训练和测试数据"
   ],
   "metadata": {
    "collapsed": false
   }
  },
  {
   "cell_type": "code",
   "execution_count": 5,
   "outputs": [
    {
     "name": "stdout",
     "output_type": "stream",
     "text": [
      "训练数据[[44]\n",
      " [27]\n",
      " [30]\n",
      " [38]\n",
      " [40]\n",
      " [35]\n",
      " [32]\n",
      " [48]\n",
      " [50]\n",
      " [37]\n",
      " [38]\n",
      " [39]\n",
      " [34]\n",
      " [45]]\n",
      "[72000 48000 54000 61000 32000 58000 52000 79000 83000 67000 68000 69000\n",
      " 57000 87000]\n",
      "测试数据[[35]\n",
      " [25]\n",
      " [29]\n",
      " [37]]\n",
      "[35000 45000 28000 49000]\n"
     ]
    }
   ],
   "source": [
    "num_train = int(0.8 * len(data))\n",
    "num_test = len(data) - num_train\n",
    "\n",
    "# 训练的数据\n",
    "X_train = np.array(X[: num_train]).reshape((-1, 1))\n",
    "y_train = np.array(y[: num_train])\n",
    "\n",
    "# 测试的数据\n",
    "X_test = np.array(X[num_train: ]).reshape((-1, 1))\n",
    "y_test = np.array(y[num_train: ])\n",
    "print('训练数据{}\\n{}\\n测试数据{}\\n{}'.format(\n",
    "    X_train, y_train, X_test, y_test\n",
    "))"
   ],
   "metadata": {
    "collapsed": false,
    "pycharm": {
     "name": "#%%\n"
    }
   }
  },
  {
   "cell_type": "markdown",
   "source": [
    "## 训练拟合，画图"
   ],
   "metadata": {
    "collapsed": false
   }
  },
  {
   "cell_type": "code",
   "execution_count": 6,
   "outputs": [
    {
     "data": {
      "text/plain": "<Figure size 432x288 with 1 Axes>",
      "image/png": "[encoded data removed]"
     },
     "metadata": {
      "needs_background": "light"
     },
     "output_type": "display_data"
    }
   ],
   "source": [
    "linear_regression = linear_model.LinearRegression()\n",
    "linear_regression.fit(X_train, y_train)  # 拟合数据和标签\n",
    "\n",
    "y_train_pred = linear_regression.predict(X_train)\n",
    "plt.figure()\n",
    "plt.scatter(X_train, y_train, color='green')\n",
    "plt.plot(X_train, y_train_pred, color='black', linewidth=2)\n",
    "plt.title('Training data')\n",
    "plt.show()"
   ],
   "metadata": {
    "collapsed": false,
    "pycharm": {
     "name": "#%%\n"
    }
   }
  },
  {
   "cell_type": "markdown",
   "source": [
    "## 预测"
   ],
   "metadata": {
    "collapsed": false
   }
  },
  {
   "cell_type": "code",
   "execution_count": 7,
   "outputs": [
    {
     "data": {
      "text/plain": "<Figure size 432x288 with 1 Axes>",
      "image/png": "[encoded data removed]"
     },
     "metadata": {
      "needs_background": "light"
     },
     "output_type": "display_data"
    }
   ],
   "source": [
    "y_test_pred = linear_regression.predict(X_test)\n",
    "plt.scatter(X_test, y_test, color='yellow')\n",
    "plt.plot(X_test, y_test_pred, color='black', linewidth=2)\n",
    "plt.title(\"Test data\")\n",
    "plt.show()"
   ],
   "metadata": {
    "collapsed": false,
    "pycharm": {
     "name": "#%%\n"
    }
   }
  },
  {
   "cell_type": "markdown",
   "source": [
    "## 计算回归的准确性"
   ],
   "metadata": {
    "collapsed": false
   }
  },
  {
   "cell_type": "code",
   "execution_count": 8,
   "outputs": [
    {
     "name": "stdout",
     "output_type": "stream",
     "text": [
      "均方误差为 280670175.0107\n"
     ]
    }
   ],
   "source": [
    "from sklearn import metrics as sm\n",
    "print(\"均方误差为\", round(sm.mean_squared_error(y_test, y_test_pred), 4)) # 均方误差为 280670175.0107"
   ],
   "metadata": {
    "collapsed": false,
    "pycharm": {
     "name": "#%%\n"
    }
   }
  },
  {
   "cell_type": "markdown",
   "source": [
    "## 保存模型"
   ],
   "metadata": {
    "collapsed": false
   }
  },
  {
   "cell_type": "code",
   "execution_count": 9,
   "outputs": [],
   "source": [
    "import pickle\n",
    "model_file = 'saved_linear_model.pkl'\n",
    "with open(model_file, 'wb') as f:\n",
    "    pickle.dump(linear_regression, f)"
   ],
   "metadata": {
    "collapsed": false,
    "pycharm": {
     "name": "#%%\n"
    }
   }
  },
  {
   "cell_type": "markdown",
   "source": [
    "## 加载模型并使用"
   ],
   "metadata": {
    "collapsed": false
   }
  },
  {
   "cell_type": "code",
   "execution_count": 11,
   "outputs": [
    {
     "name": "stdout",
     "output_type": "stream",
     "text": [
      "均方误差为 280670175.0107\n"
     ]
    }
   ],
   "source": [
    "with open(model_file, 'rb') as f:\n",
    "    model = pickle.load(f)\n",
    "\n",
    "y_test_pred_new = model.predict(X_test)\n",
    "print('均方误差为', round(sm.mean_squared_error(y_test, y_test_pred_new), 4))"
   ],
   "metadata": {
    "collapsed": false,
    "pycharm": {
     "name": "#%%\n"
    }
   }
  },
  {
   "cell_type": "markdown",
   "source": [
    "## 岭回归"
   ],
   "metadata": {
    "collapsed": false
   }
  },
  {
   "cell_type": "code",
   "execution_count": 15,
   "outputs": [
    {
     "data": {
      "text/plain": "array([[54753.6125398 ],\n       [37046.04457507],\n       [44129.07176096],\n       [58295.12613275]])"
     },
     "execution_count": 15,
     "metadata": {},
     "output_type": "execute_result"
    }
   ],
   "source": [
    "ridge_reg = linear_model.Ridge(\n",
    "    alpha=0.1,\n",
    "    fit_intercept=True,  # 使用截距\n",
    "    max_iter=10000\n",
    ")\n",
    "X = X.reshape(-1, 1)\n",
    "y = y.reshape(-1, 1)\n",
    "ridge_reg.fit(X, y)\n",
    "y_test_pred_ridge = ridge_reg.predict(X_test)\n",
    "y_test_pred_ridge"
   ],
   "metadata": {
    "collapsed": false,
    "pycharm": {
     "name": "#%%\n"
    }
   }
  },
  {
   "cell_type": "code",
   "execution_count": null,
   "outputs": [],
   "source": [],
   "metadata": {
    "collapsed": false,
    "pycharm": {
     "name": "#%%\n"
    }
   }
  }
 ],
 "metadata": {
  "kernelspec": {
   "display_name": "Python 3",
   "language": "python",
   "name": "python3"
  },
  "language_info": {
   "codemirror_mode": {
    "name": "ipython",
    "version": 2
   },
   "file_extension": ".py",
   "mimetype": "text/x-python",
   "name": "python",
   "nbconvert_exporter": "python",
   "pygments_lexer": "ipython2",
   "version": "2.7.6"
  }
 },
 "nbformat": 4,
 "nbformat_minor": 0
}