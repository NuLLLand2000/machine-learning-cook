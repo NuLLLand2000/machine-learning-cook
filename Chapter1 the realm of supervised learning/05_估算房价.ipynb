{
 "cells": [
  {
   "cell_type": "markdown",
   "source": [
    "# 预估波士顿房价"
   ],
   "metadata": {
    "collapsed": false
   }
  },
  {
   "cell_type": "code",
   "execution_count": 1,
   "metadata": {
    "collapsed": true
   },
   "outputs": [],
   "source": [
    "import numpy as np\n",
    "from sklearn.tree import DecisionTreeRegressor\n",
    "from sklearn.ensemble import AdaBoostRegressor\n",
    "from sklearn import datasets\n",
    "from sklearn.metrics import mean_squared_error, explained_variance_score\n",
    "from sklearn.utils import shuffle\n",
    "from matplotlib import pyplot as plt"
   ]
  },
  {
   "cell_type": "code",
   "execution_count": 2,
   "outputs": [
    {
     "name": "stderr",
     "output_type": "stream",
     "text": [
      "/Users/whoami/miniforge3/envs/py38/lib/python3.8/site-packages/sklearn/utils/deprecation.py:87: FutureWarning: Function load_boston is deprecated; `load_boston` is deprecated in 1.0 and will be removed in 1.2.\n",
      "\n",
      "    The Boston housing prices dataset has an ethical problem. You can refer to\n",
      "    the documentation of this function for further details.\n",
      "\n",
      "    The scikit-learn maintainers therefore strongly discourage the use of this\n",
      "    dataset unless the purpose of the code is to study and educate about\n",
      "    ethical issues in data science and machine learning.\n",
      "\n",
      "    In this special case, you can fetch the dataset from the original\n",
      "    source::\n",
      "\n",
      "        import pandas as pd\n",
      "        import numpy as np\n",
      "\n",
      "\n",
      "        data_url = \"http://lib.stat.cmu.edu/datasets/boston\"\n",
      "        raw_df = pd.read_csv(data_url, sep=\"\\s+\", skiprows=22, header=None)\n",
      "        data = np.hstack([raw_df.values[::2, :], raw_df.values[1::2, :2]])\n",
      "        target = raw_df.values[1::2, 2]\n",
      "\n",
      "    Alternative datasets include the California housing dataset (i.e.\n",
      "    :func:`~sklearn.datasets.fetch_california_housing`) and the Ames housing\n",
      "    dataset. You can load the datasets as follows::\n",
      "\n",
      "        from sklearn.datasets import fetch_california_housing\n",
      "        housing = fetch_california_housing()\n",
      "\n",
      "    for the California housing dataset and::\n",
      "\n",
      "        from sklearn.datasets import fetch_openml\n",
      "        housing = fetch_openml(name=\"house_prices\", as_frame=True)\n",
      "\n",
      "    for the Ames housing dataset.\n",
      "    \n",
      "  warnings.warn(msg, category=FutureWarning)\n"
     ]
    },
    {
     "data": {
      "text/plain": "(array([[3.8497e+00, 0.0000e+00, 1.8100e+01, ..., 2.0200e+01, 3.9134e+02,\n         1.3270e+01],\n        [3.0410e-02, 0.0000e+00, 5.1900e+00, ..., 2.0200e+01, 3.9481e+02,\n         1.0560e+01],\n        [2.4103e-01, 0.0000e+00, 7.3800e+00, ..., 1.9600e+01, 3.9690e+02,\n         1.2790e+01],\n        ...,\n        [8.4054e-01, 0.0000e+00, 8.1400e+00, ..., 2.1000e+01, 3.0342e+02,\n         1.6510e+01],\n        [4.0110e-02, 8.0000e+01, 1.5200e+00, ..., 1.2600e+01, 3.9690e+02,\n         4.0800e+00],\n        [6.6640e-02, 0.0000e+00, 4.0500e+00, ..., 1.6600e+01, 3.9096e+02,\n         5.3300e+00]]),\n array([21.7, 18.5, 22.2, 20.4,  8.8,  8.3, 21.4, 23.6, 23.5, 19. , 10.2,\n        31.6, 18.4, 19.4, 44. , 23.2, 22. , 33.1, 13.2, 21.7, 16.7, 23.9,\n        42.3, 18.5, 14.6,  7.5, 33.4, 22. , 28.1, 24.8, 19.9, 24.8, 28.7,\n        14.1, 43.5, 20.4, 18.3, 13.4, 21. , 22. , 22.6, 13.9, 13.3, 26.5,\n        20. ,  9.5, 21.6, 22.6, 15.6, 23.1, 27.1, 25.2, 15. , 21.9,  9.6,\n        22.7, 18.3, 21.4, 20.5, 21.1, 24.5, 31. , 18.7, 18.7, 22.7, 50. ,\n        16.7, 23. , 20.4, 22.8, 24.8, 10.5, 18.2, 31.5, 23.8, 19.6, 12.7,\n        15.2, 31.2, 14.5, 17.8, 25. , 23. , 50. , 23.7, 25.1, 24.7, 16.8,\n        34.7, 23.3, 50. , 46.7, 43.1, 24.4, 24.1,  6.3, 26.4, 16.3, 17.2,\n        28. , 15.2, 16.6, 20.6, 16.4, 22. , 17.2, 13.5, 23.3, 26.2, 19.7,\n        13.1, 23.9, 18.2, 19.3,  7. , 18.5, 13.8, 33.4, 12.6, 19.6, 20.8,\n        25. , 21.7, 43.8, 13.4, 34.9, 24.5, 26.6, 36.5, 31.1, 22.6, 20.3,\n        18.4, 28.7, 23.1, 17.6, 35.4, 31.6,  8.5, 22.2, 10.4, 22.8, 23.9,\n        22.2, 32.9, 15.6, 29.8, 14.3, 28.4, 21.4, 23.1, 10.4, 20.1, 14.4,\n        14.9, 10.2, 20.8, 50. , 23.3, 25. , 23.7, 11.9, 23.9, 20.6, 23.8,\n        32. ,  8.3, 22.5, 37.2,  8.4, 23.4, 13.1, 17.8, 50. , 29.1, 19.4,\n        11.7, 30.1, 27.5, 26.7, 33.2, 33.1, 17.8, 19.9, 50. , 50. , 20. ,\n        22.5, 21. ,  7. ,  8.8, 19.8, 23.1, 23.4, 32.4, 20.1, 22.4, 42.8,\n        23.1, 16.1, 22. , 23.6, 10.9, 14. , 29.1, 18.6, 36. , 22.6, 17.4,\n        24.3, 41.3, 24.2, 18.4, 45.4, 21.2, 50. , 27.5, 16.5, 22.9, 18.6,\n        20.1, 41.7, 20.2, 24.6, 10.5, 13.6, 35.4, 32.2, 13.4, 25. , 13.5,\n        36.2, 26.4, 21.5, 22.5, 23.3, 27.9, 50. , 28.6, 38.7, 24. , 12.5,\n        16.1, 17. , 20.5, 18.7, 17.1, 32.7, 19.1, 19.8, 21.2, 20.6, 16. ,\n        19.5, 19.9, 21.4, 14.6, 12.7, 21.2, 14.2, 35.2, 27.5, 15.6, 23.1,\n        14.5, 16.8, 15.7, 17.5, 13.6, 29.9, 11.7, 13.3, 30.1, 24.1, 25. ,\n        20.9, 20. , 27. , 18.9, 11.8, 30.1, 16.2, 10.9, 18.9, 20.2, 23.2,\n        31.7, 21.7, 18. , 15.6, 20.1, 27.1, 21.9, 50. , 20.7, 16.5, 13.1,\n        14.8, 30.7, 33. , 20.9, 19.1, 19.4, 14.4, 24.4, 23.2, 21.6, 20.7,\n        22.8, 23. , 22.2, 28.4, 19.5,  8.1, 17.8, 21.2, 19.3, 50. ,  7.2,\n        19.2, 22.3, 20.8, 15.2, 25. ,  7.2, 11.5, 24.3, 20.3, 50. , 20.6,\n        34.9, 12.7, 20.3, 19.1, 14.3, 28.2, 17.7, 24.3, 26.6, 50. , 48.8,\n        17.1, 17.9, 20. , 15.1, 15. , 22.2, 11.9, 37.9, 19.5, 13. , 19.4,\n        11.3, 28.7, 17.5, 29. ,  8.5, 23.1, 19.5, 15.6,  5. , 37.6, 23.7,\n        37. , 15.4, 23.8, 46. , 21. , 22.3, 39.8, 27.5, 30.3, 20. , 18.1,\n        29.8, 14.1, 34.6, 13.8, 50. ,  7.4, 17.4, 22. , 21.1, 19.6, 30.8,\n        25. , 24.7, 18.9, 12. , 29. , 14.9, 36.1, 18.9, 16.2, 20.3, 33.2,\n        18.8, 13.4, 21.7, 18.5, 19.4, 13.8, 12.8, 20.4, 14.9, 21.7, 24.4,\n        16.6, 48.5, 11.8, 19.3, 19.6, 12.1, 22.9, 19.2, 21.8, 22.6, 31.5,\n        19.7, 20.1, 17.3, 13.1, 13.3, 36.2, 17.2, 18.2, 23. , 10.2, 22.4,\n         8.4, 17.8, 15.4, 44.8, 20.5, 13.8, 19.6, 25. , 19.8, 37.3, 48.3,\n        15. , 35.1, 21.7, 29.6, 22.9, 23.7, 26.6,  7.2, 13.8,  5.6, 36.4,\n        50. , 20.6, 19. , 21.8, 50. , 23.9, 17.1, 33.8, 24.7, 24.1, 19.9,\n        28.5, 14.1, 34.9, 24.8, 18.8,  8.7, 32.5, 15.3, 19.4, 24.6, 30.5,\n        21.2, 10.8, 32. , 22.9, 24.4, 22.1, 21.4, 24. , 11. , 23.2, 12.3,\n        16.1, 17.4, 19.1, 23.8,  9.7, 21.5, 25.3, 21.9, 17.5, 22.8, 14.5,\n         5. , 29.6, 24.5, 19.3, 27.9, 19.3, 22. , 20.6, 13.9, 33.3, 29.4]))"
     },
     "execution_count": 2,
     "metadata": {},
     "output_type": "execute_result"
    }
   ],
   "source": [
    "housing_data = datasets.load_boston()  # 房价数据集\n",
    "X = housing_data.data  # 输入数据\n",
    "y = housing_data.target  # 房价\n",
    "X, y = shuffle(X, y, random_state=7)  # random_state用来控制如何打乱\n",
    "X, y"
   ],
   "metadata": {
    "collapsed": false,
    "pycharm": {
     "name": "#%%\n"
    }
   }
  },
  {
   "cell_type": "code",
   "execution_count": 3,
   "outputs": [],
   "source": [
    "# 划分训练和测试集\n",
    "num_training = int(0.8 * len(X))\n",
    "X_train, y_train = X[: num_training], y[: num_training]\n",
    "X_test, y_test = X[num_training: ], y[num_training: ]"
   ],
   "metadata": {
    "collapsed": false,
    "pycharm": {
     "name": "#%%\n"
    }
   }
  },
  {
   "cell_type": "markdown",
   "source": [
    "决策树回归模型"
   ],
   "metadata": {
    "collapsed": false
   }
  },
  {
   "cell_type": "code",
   "execution_count": 18,
   "outputs": [
    {
     "data": {
      "text/plain": "AdaBoostRegressor(base_estimator=DecisionTreeRegressor(max_depth=1024),\n                  n_estimators=400, random_state=7)"
     },
     "execution_count": 18,
     "metadata": {},
     "output_type": "execute_result"
    }
   ],
   "source": [
    "depth = 1024\n",
    "dt_regressor = DecisionTreeRegressor(max_depth=depth)\n",
    "dt_regressor.fit(X_train, y_train)\n",
    "\n",
    "# AdaBoost算法\n",
    "ab_reg = AdaBoostRegressor(\n",
    "    DecisionTreeRegressor(max_depth=depth),\n",
    "    n_estimators=400,\n",
    "    random_state=7\n",
    ")\n",
    "ab_reg.fit(X_train, y_train)"
   ],
   "metadata": {
    "collapsed": false,
    "pycharm": {
     "name": "#%%\n"
    }
   }
  },
  {
   "cell_type": "markdown",
   "source": [
    "查看训练效果\n",
    "误差越小越好，方差越接近1越好"
   ],
   "metadata": {
    "collapsed": false
   }
  },
  {
   "cell_type": "code",
   "execution_count": 19,
   "outputs": [
    {
     "name": "stdout",
     "output_type": "stream",
     "text": [
      "mean_squared_error 16.82735294117647\n",
      "explained_variance_score 0.7978937340123518\n"
     ]
    }
   ],
   "source": [
    "y_pred_dt = dt_regressor.predict(X_test)\n",
    "mse = mean_squared_error(y_test, y_pred_dt)\n",
    "evs = explained_variance_score(y_test, y_pred_dt)\n",
    "\n",
    "print(\"mean_squared_error {}\\nexplained_variance_score {}\".format(mse, evs))"
   ],
   "metadata": {
    "collapsed": false,
    "pycharm": {
     "name": "#%%\n"
    }
   }
  },
  {
   "cell_type": "code",
   "execution_count": 20,
   "outputs": [
    {
     "name": "stdout",
     "output_type": "stream",
     "text": [
      "mean_squared_error 7.256176470588235\n",
      "explained_variance_score 0.9118180933815324\n"
     ]
    }
   ],
   "source": [
    "y_pred_ab = ab_reg.predict(X_test)\n",
    "mse2 = mean_squared_error(y_test, y_pred_ab)\n",
    "evs2 = explained_variance_score(y_test, y_pred_ab)\n",
    "print(\"mean_squared_error {}\\nexplained_variance_score {}\".format(mse2, evs2))"
   ],
   "metadata": {
    "collapsed": false,
    "pycharm": {
     "name": "#%%\n"
    }
   }
  },
  {
   "cell_type": "markdown",
   "source": [
    "## 特征的相对重要性"
   ],
   "metadata": {
    "collapsed": false
   }
  },
  {
   "cell_type": "code",
   "execution_count": 34,
   "outputs": [
    {
     "data": {
      "text/plain": "<Figure size 432x288 with 1 Axes>",
      "image/png": "[encoded data removed]"
     },
     "metadata": {
      "needs_background": "light"
     },
     "output_type": "display_data"
    },
    {
     "data": {
      "text/plain": "<Figure size 432x288 with 1 Axes>",
      "image/png": "[encoded data removed]"
     },
     "metadata": {
      "needs_background": "light"
     },
     "output_type": "display_data"
    }
   ],
   "source": [
    "def plot_feature_importances(feature_importance, title, feature_names):\n",
    "    \"\"\"\n",
    "    画出特征重要性的图片\n",
    "    :param feature_importance: list\n",
    "    :param title: str\n",
    "    :param feature_names: list\n",
    "    :return:\n",
    "    \"\"\"\n",
    "    feature_importance = 100.0 * (feature_importance / max(feature_importance))  # 标准化重要性指标\n",
    "    index_sorted = np.flipud(np.argsort(feature_importance))  # 得分从高到底排序\n",
    "    pos = np.arange(index_sorted.shape[0]) + 0.5  # 居中显示标签\n",
    "\n",
    "    # plot\n",
    "    plt.figure()\n",
    "    plt.bar(pos, height=feature_importance[index_sorted], align='center')\n",
    "    plt.xticks(pos, feature_names[index_sorted])\n",
    "    plt.ylabel('Relative Importance')\n",
    "    plt.title(title)\n",
    "    plt.show()\n",
    "\n",
    "plot_feature_importances(dt_regressor.feature_importances_,\n",
    "                         'Decision Tree regressor',\n",
    "                         housing_data.feature_names),\n",
    "plot_feature_importances(ab_reg.feature_importances_,\n",
    "                         'AdaBoost',\n",
    "                         housing_data.feature_names)\n"
   ],
   "metadata": {
    "collapsed": false,
    "pycharm": {
     "name": "#%%\n"
    }
   }
  },
  {
   "cell_type": "code",
   "execution_count": null,
   "outputs": [],
   "source": [],
   "metadata": {
    "collapsed": false,
    "pycharm": {
     "name": "#%%\n"
    }
   }
  }
 ],
 "metadata": {
  "kernelspec": {
   "display_name": "Python 3",
   "language": "python",
   "name": "python3"
  },
  "language_info": {
   "codemirror_mode": {
    "name": "ipython",
    "version": 2
   },
   "file_extension": ".py",
   "mimetype": "text/x-python",
   "name": "python",
   "nbconvert_exporter": "python",
   "pygments_lexer": "ipython2",
   "version": "2.7.6"
  }
 },
 "nbformat": 4,
 "nbformat_minor": 0
}