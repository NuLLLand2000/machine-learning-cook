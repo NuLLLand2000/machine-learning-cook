{
 "cells": [
  {
   "cell_type": "markdown",
   "source": [
    "# 多项式回归"
   ],
   "metadata": {
    "collapsed": false
   }
  },
  {
   "cell_type": "code",
   "execution_count": 14,
   "metadata": {
    "collapsed": true
   },
   "outputs": [],
   "source": [
    "import numpy as np\n",
    "import pandas as pd\n",
    "from sklearn.preprocessing import PolynomialFeatures\n",
    "from sklearn import linear_model\n",
    "from matplotlib import pyplot as plt"
   ]
  },
  {
   "cell_type": "code",
   "execution_count": 3,
   "outputs": [
    {
     "data": {
      "text/plain": "       X      y\n0    0.0   0.10\n1    0.1   0.01\n2    0.5   0.20\n3    0.8   0.60\n4    1.0   1.20\n5    1.4   3.20\n6    1.8   3.50\n7    1.9   3.60\n8    2.0   4.10\n9    2.0   3.90\n10   2.5   6.24\n11   3.0   8.70\n12   4.0  15.60\n13   5.0  25.90\n14   6.0  35.50\n15   7.0  50.00\n16   8.0  63.00\n17   9.0  82.00\n18  10.0  99.00",
      "text/html": "<div>\n<style scoped>\n    .dataframe tbody tr th:only-of-type {\n        vertical-align: middle;\n    }\n\n    .dataframe tbody tr th {\n        vertical-align: top;\n    }\n\n    .dataframe thead th {\n        text-align: right;\n    }\n</style>\n<table border=\"1\" class=\"dataframe\">\n  <thead>\n    <tr style=\"text-align: right;\">\n      <th></th>\n      <th>X</th>\n      <th>y</th>\n    </tr>\n  </thead>\n  <tbody>\n    <tr>\n      <th>0</th>\n      <td>0.0</td>\n      <td>0.10</td>\n    </tr>\n    <tr>\n      <th>1</th>\n      <td>0.1</td>\n      <td>0.01</td>\n    </tr>\n    <tr>\n      <th>2</th>\n      <td>0.5</td>\n      <td>0.20</td>\n    </tr>\n    <tr>\n      <th>3</th>\n      <td>0.8</td>\n      <td>0.60</td>\n    </tr>\n    <tr>\n      <th>4</th>\n      <td>1.0</td>\n      <td>1.20</td>\n    </tr>\n    <tr>\n      <th>5</th>\n      <td>1.4</td>\n      <td>3.20</td>\n    </tr>\n    <tr>\n      <th>6</th>\n      <td>1.8</td>\n      <td>3.50</td>\n    </tr>\n    <tr>\n      <th>7</th>\n      <td>1.9</td>\n      <td>3.60</td>\n    </tr>\n    <tr>\n      <th>8</th>\n      <td>2.0</td>\n      <td>4.10</td>\n    </tr>\n    <tr>\n      <th>9</th>\n      <td>2.0</td>\n      <td>3.90</td>\n    </tr>\n    <tr>\n      <th>10</th>\n      <td>2.5</td>\n      <td>6.24</td>\n    </tr>\n    <tr>\n      <th>11</th>\n      <td>3.0</td>\n      <td>8.70</td>\n    </tr>\n    <tr>\n      <th>12</th>\n      <td>4.0</td>\n      <td>15.60</td>\n    </tr>\n    <tr>\n      <th>13</th>\n      <td>5.0</td>\n      <td>25.90</td>\n    </tr>\n    <tr>\n      <th>14</th>\n      <td>6.0</td>\n      <td>35.50</td>\n    </tr>\n    <tr>\n      <th>15</th>\n      <td>7.0</td>\n      <td>50.00</td>\n    </tr>\n    <tr>\n      <th>16</th>\n      <td>8.0</td>\n      <td>63.00</td>\n    </tr>\n    <tr>\n      <th>17</th>\n      <td>9.0</td>\n      <td>82.00</td>\n    </tr>\n    <tr>\n      <th>18</th>\n      <td>10.0</td>\n      <td>99.00</td>\n    </tr>\n  </tbody>\n</table>\n</div>"
     },
     "execution_count": 3,
     "metadata": {},
     "output_type": "execute_result"
    }
   ],
   "source": [
    "data = pd.read_csv('data/poly.csv')\n",
    "data"
   ],
   "metadata": {
    "collapsed": false,
    "pycharm": {
     "name": "#%%\n"
    }
   }
  },
  {
   "cell_type": "code",
   "execution_count": 7,
   "outputs": [],
   "source": [
    "# 数据处理\n",
    "train_rate = 0.7\n",
    "X = data['X'].values.reshape(-1, 1)\n",
    "y = data['y'].values.reshape(-1, 1)\n",
    "\n",
    "X_train = X[: int(0.7 * len(X))]\n",
    "y_train = y[: int(0.7 * len(X))]\n",
    "\n",
    "X_test = X[int(0.7 * len(X)): ]\n",
    "y_test = y[int(0.7 * len(y)): ]"
   ],
   "metadata": {
    "collapsed": false,
    "pycharm": {
     "name": "#%%\n"
    }
   }
  },
  {
   "cell_type": "code",
   "execution_count": 10,
   "outputs": [
    {
     "data": {
      "text/plain": "array([[1.0000e+00, 0.0000e+00, 0.0000e+00, 0.0000e+00],\n       [1.0000e+00, 1.0000e-01, 1.0000e-02, 1.0000e-03],\n       [1.0000e+00, 5.0000e-01, 2.5000e-01, 1.2500e-01],\n       [1.0000e+00, 8.0000e-01, 6.4000e-01, 5.1200e-01],\n       [1.0000e+00, 1.0000e+00, 1.0000e+00, 1.0000e+00],\n       [1.0000e+00, 1.4000e+00, 1.9600e+00, 2.7440e+00],\n       [1.0000e+00, 1.8000e+00, 3.2400e+00, 5.8320e+00],\n       [1.0000e+00, 1.9000e+00, 3.6100e+00, 6.8590e+00],\n       [1.0000e+00, 2.0000e+00, 4.0000e+00, 8.0000e+00],\n       [1.0000e+00, 2.0000e+00, 4.0000e+00, 8.0000e+00],\n       [1.0000e+00, 2.5000e+00, 6.2500e+00, 1.5625e+01],\n       [1.0000e+00, 3.0000e+00, 9.0000e+00, 2.7000e+01],\n       [1.0000e+00, 4.0000e+00, 1.6000e+01, 6.4000e+01]])"
     },
     "execution_count": 10,
     "metadata": {},
     "output_type": "execute_result"
    }
   ],
   "source": [
    "polynomial = PolynomialFeatures(degree=3)  # a, b, c3个参数\n",
    "X_train_transformed = polynomial.fit_transform(X_train)\n",
    "data_points = np.array([2, 3, 4])\n",
    "X_train_transformed"
   ],
   "metadata": {
    "collapsed": false,
    "pycharm": {
     "name": "#%%\n"
    }
   }
  },
  {
   "cell_type": "code",
   "execution_count": 17,
   "outputs": [
    {
     "data": {
      "text/plain": "array([[ 4.14240499],\n       [ 8.75822084],\n       [15.56925214]])"
     },
     "execution_count": 17,
     "metadata": {},
     "output_type": "execute_result"
    }
   ],
   "source": [
    "data_points = data_points.reshape(-1, 1)\n",
    "poly_datapoint = polynomial.fit_transform(data_points)\n",
    "poly_model = linear_model.LinearRegression()\n",
    "poly_model.fit(X_train_transformed, y_train)\n",
    "poly_model.predict(poly_datapoint)"
   ],
   "metadata": {
    "collapsed": false,
    "pycharm": {
     "name": "#%%\n"
    }
   }
  },
  {
   "cell_type": "code",
   "execution_count": null,
   "outputs": [],
   "source": [],
   "metadata": {
    "collapsed": false,
    "pycharm": {
     "name": "#%%\n"
    }
   }
  }
 ],
 "metadata": {
  "kernelspec": {
   "display_name": "Python 3",
   "language": "python",
   "name": "python3"
  },
  "language_info": {
   "codemirror_mode": {
    "name": "ipython",
    "version": 2
   },
   "file_extension": ".py",
   "mimetype": "text/x-python",
   "name": "python",
   "nbconvert_exporter": "python",
   "pygments_lexer": "ipython2",
   "version": "2.7.6"
  }
 },
 "nbformat": 4,
 "nbformat_minor": 0
}