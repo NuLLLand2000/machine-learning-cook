{
 "cells": [
  {
   "cell_type": "markdown",
   "source": [
    "# 数据预处理技术"
   ],
   "metadata": {
    "collapsed": false
   }
  },
  {
   "cell_type": "code",
   "execution_count": 1,
   "metadata": {
    "collapsed": true
   },
   "outputs": [
    {
     "name": "stdout",
     "output_type": "stream",
     "text": [
      "矩阵：[[0.36061753 1.34441427 0.6076037  1.69423223 1.70551281]\n",
      " [1.90243471 1.95286415 1.47711609 0.19745964 1.60749523]\n",
      " [1.14232471 0.13773371 1.41568391 0.35927796 0.02420742]\n",
      " [1.92927371 0.06090296 0.34754033 0.10869699 0.01728238]]\n",
      " 数组：[3 9 1 2 3 6 3 8 9 1]\n"
     ]
    }
   ],
   "source": [
    "import numpy as np\n",
    "import pandas as pd\n",
    "from sklearn import preprocessing\n",
    "\n",
    "data = 2 * np.random.rand(4, 5)\n",
    "linear = np.random.randint(low=1, high=10, size=10)\n",
    "print(\"矩阵：{}\\n 数组：{}\".format(data, linear))"
   ]
  },
  {
   "cell_type": "markdown",
   "source": [
    "## 1. Mean removal 均值移除"
   ],
   "metadata": {
    "collapsed": false
   }
  },
  {
   "cell_type": "code",
   "execution_count": 2,
   "outputs": [
    {
     "name": "stdout",
     "output_type": "stream",
     "text": [
      "数据：[[-1.50969469  0.58480354 -0.71804018  1.71510757  1.05896687]\n",
      " [ 0.88245869  1.3411743   1.04374312 -0.60952333  0.9392313 ]\n",
      " [-0.29686382 -0.91523434  0.91927084 -0.35820401 -0.99486936]\n",
      " [ 0.92409981 -1.0107435  -1.24497378 -0.74738023 -1.00332881]]\n",
      "均值：[ 0.00000000e+00  1.11022302e-16 -5.55111512e-17 -1.11022302e-16\n",
      " -1.11022302e-16]\n",
      "标准差：[1. 1. 1. 1. 1.]\n",
      "数据：[-0.49319696  1.47959089 -1.15079291 -0.82199494 -0.49319696  0.49319696\n",
      " -0.49319696  1.15079291  1.47959089 -1.15079291]\n",
      "均值：0.0\n",
      "标准差：1.0\n"
     ]
    }
   ],
   "source": [
    "data_stan = preprocessing.scale(data)\n",
    "linear_stan = preprocessing.scale(linear)\n",
    "print(\"数据：{}\\n均值：{}\\n标准差：{}\".format(data_stan, data_stan.mean(axis=0), data_stan.std(axis=0)))\n",
    "print(\"数据：{}\\n均值：{}\\n标准差：{}\".format(linear_stan, linear_stan.mean(axis=0), linear_stan.std(axis=0)))"
   ],
   "metadata": {
    "collapsed": false,
    "pycharm": {
     "name": "#%%\n"
    }
   }
  },
  {
   "cell_type": "markdown",
   "source": [
    "## 2. 范围缩放"
   ],
   "metadata": {
    "collapsed": false
   }
  },
  {
   "cell_type": "code",
   "execution_count": 6,
   "outputs": [
    {
     "data": {
      "text/plain": "array([[ 0.        ,  6.78402555,  2.30231011, 10.        , 10.        ],\n       [ 9.82890453, 10.        , 10.        ,  0.55982772,  9.41940639],\n       [ 4.98329202,  0.40609052,  9.45614818,  1.58041886,  0.04101956],\n       [10.        ,  0.        ,  0.        ,  0.        ,  0.        ]])"
     },
     "execution_count": 6,
     "metadata": {},
     "output_type": "execute_result"
    }
   ],
   "source": [
    "scaler = preprocessing.MinMaxScaler(feature_range=(0, 10))  # sklearn.preprocessing._data.MinMaxScaler 对象\n",
    "data_scaled = scaler.fit_transform(data)\n",
    "data_scaled"
   ],
   "metadata": {
    "collapsed": false,
    "pycharm": {
     "name": "#%%\n"
    }
   }
  },
  {
   "cell_type": "markdown",
   "source": [
    "## 3. 归一化\n",
    "特征向量调整为L1范数，"
   ],
   "metadata": {
    "collapsed": false
   }
  },
  {
   "cell_type": "code",
   "execution_count": 7,
   "outputs": [
    {
     "data": {
      "text/plain": "array([[0.06312912, 0.23535096, 0.10636611, 0.29658952, 0.29856429],\n       [0.26654563, 0.27361118, 0.20695524, 0.0276656 , 0.22522235],\n       [0.37097767, 0.04472995, 0.45975291, 0.11667795, 0.00786152],\n       [0.78308096, 0.02472016, 0.1410646 , 0.04411947, 0.00701482]])"
     },
     "execution_count": 7,
     "metadata": {},
     "output_type": "execute_result"
    }
   ],
   "source": [
    "data_normalized = preprocessing.normalize(data, norm='l1')\n",
    "data_normalized"
   ],
   "metadata": {
    "collapsed": false,
    "pycharm": {
     "name": "#%%\n"
    }
   }
  },
  {
   "cell_type": "markdown",
   "source": [
    "## 4. 二值化"
   ],
   "metadata": {
    "collapsed": false
   }
  },
  {
   "cell_type": "code",
   "execution_count": 11,
   "outputs": [
    {
     "data": {
      "text/plain": "(array([[0., 1., 0., 1., 1.],\n        [1., 1., 1., 0., 1.],\n        [1., 0., 1., 0., 0.],\n        [1., 0., 0., 0., 0.]]),\n array([[0.36061753, 1.34441427, 0.6076037 , 1.69423223, 1.70551281],\n        [1.90243471, 1.95286415, 1.47711609, 0.19745964, 1.60749523],\n        [1.14232471, 0.13773371, 1.41568391, 0.35927796, 0.02420742],\n        [1.92927371, 0.06090296, 0.34754033, 0.10869699, 0.01728238]]))"
     },
     "execution_count": 11,
     "metadata": {},
     "output_type": "execute_result"
    }
   ],
   "source": [
    "data_bin = preprocessing.Binarizer(threshold=1).transform(data)\n",
    "data_bin, data"
   ],
   "metadata": {
    "collapsed": false,
    "pycharm": {
     "name": "#%%\n"
    }
   }
  },
  {
   "cell_type": "markdown",
   "source": [
    "## 5. One-hot编码"
   ],
   "metadata": {
    "collapsed": false
   }
  },
  {
   "cell_type": "code",
   "execution_count": 13,
   "outputs": [
    {
     "data": {
      "text/plain": "       city\n0   Beijing\n1  Shanghai\n2  Hangzhou\n3    Ningbo\n4  Hangzhou",
      "text/html": "<div>\n<style scoped>\n    .dataframe tbody tr th:only-of-type {\n        vertical-align: middle;\n    }\n\n    .dataframe tbody tr th {\n        vertical-align: top;\n    }\n\n    .dataframe thead th {\n        text-align: right;\n    }\n</style>\n<table border=\"1\" class=\"dataframe\">\n  <thead>\n    <tr style=\"text-align: right;\">\n      <th></th>\n      <th>city</th>\n    </tr>\n  </thead>\n  <tbody>\n    <tr>\n      <th>0</th>\n      <td>Beijing</td>\n    </tr>\n    <tr>\n      <th>1</th>\n      <td>Shanghai</td>\n    </tr>\n    <tr>\n      <th>2</th>\n      <td>Hangzhou</td>\n    </tr>\n    <tr>\n      <th>3</th>\n      <td>Ningbo</td>\n    </tr>\n    <tr>\n      <th>4</th>\n      <td>Hangzhou</td>\n    </tr>\n  </tbody>\n</table>\n</div>"
     },
     "execution_count": 13,
     "metadata": {},
     "output_type": "execute_result"
    }
   ],
   "source": [
    "# 先创建一个测试的dataframe\n",
    "cities = ['Beijing', 'Shanghai', 'Hangzhou', 'Ningbo', 'Hangzhou']\n",
    "dic = {'city': cities}\n",
    "city_df = pd.DataFrame(dic)\n",
    "city_df"
   ],
   "metadata": {
    "collapsed": false,
    "pycharm": {
     "name": "#%%\n"
    }
   }
  },
  {
   "cell_type": "code",
   "execution_count": 20,
   "outputs": [
    {
     "data": {
      "text/plain": "numpy.ndarray"
     },
     "execution_count": 20,
     "metadata": {},
     "output_type": "execute_result"
    }
   ],
   "source": [
    "encoder = preprocessing.OneHotEncoder()\n",
    "target_col: np.ndarray = city_df['city'].values.reshape(-1, 1)\n",
    "encoder.fit(target_col)\n",
    "encoded_vector = encoder.transform(target_col).toarray()\n",
    "encoded_vector = encoded_vector.astype('int8')\n",
    "type(encoded_vector)"
   ],
   "metadata": {
    "collapsed": false,
    "pycharm": {
     "name": "#%%\n"
    }
   }
  },
  {
   "cell_type": "code",
   "execution_count": null,
   "outputs": [],
   "source": [],
   "metadata": {
    "collapsed": false,
    "pycharm": {
     "name": "#%%\n"
    }
   }
  }
 ],
 "metadata": {
  "kernelspec": {
   "display_name": "Python 3",
   "language": "python",
   "name": "python3"
  },
  "language_info": {
   "codemirror_mode": {
    "name": "ipython",
    "version": 2
   },
   "file_extension": ".py",
   "mimetype": "text/x-python",
   "name": "python",
   "nbconvert_exporter": "python",
   "pygments_lexer": "ipython2",
   "version": "2.7.6"
  }
 },
 "nbformat": 4,
 "nbformat_minor": 0
}