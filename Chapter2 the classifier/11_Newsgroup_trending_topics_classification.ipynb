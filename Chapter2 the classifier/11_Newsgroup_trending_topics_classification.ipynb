{
 "cells": [
  {
   "cell_type": "markdown",
   "source": [
    "# 新闻趋势分类\n",
    "基于多项式的朴素贝叶斯分类器"
   ],
   "metadata": {
    "collapsed": false
   }
  },
  {
   "cell_type": "code",
   "execution_count": 17,
   "metadata": {
    "collapsed": true
   },
   "outputs": [],
   "source": [
    "from sklearn.datasets import fetch_20newsgroups\n",
    "from sklearn.feature_extraction.text import CountVectorizer  # 从文本中提取特征\n",
    "from sklearn.feature_extraction.text import TfidfTransformer\n",
    "from sklearn.naive_bayes import MultinomialNB  # 朴素贝叶斯\n",
    "import numpy as np"
   ]
  },
  {
   "cell_type": "code",
   "execution_count": 2,
   "outputs": [
    {
     "data": {
      "text/plain": "['rec.sport.baseball', 'rec.sport.hockey']"
     },
     "execution_count": 2,
     "metadata": {},
     "output_type": "execute_result"
    }
   ],
   "source": [
    "NewsClass = ['rec.sport.baseball', 'rec.sport.hockey']\n",
    "DataTrain = fetch_20newsgroups(subset='train', categories=NewsClass, shuffle=True, random_state=42)  # 下载数据\n",
    "DataTrain.target_names"
   ],
   "metadata": {
    "collapsed": false,
    "pycharm": {
     "name": "#%%\n"
    }
   }
  },
  {
   "cell_type": "code",
   "execution_count": 3,
   "outputs": [
    {
     "name": "stdout",
     "output_type": "stream",
     "text": [
      "数据长度 1197\n",
      "标签长度 1197\n"
     ]
    }
   ],
   "source": [
    "print('数据长度', len(DataTrain.data))\n",
    "print('标签长度', len(DataTrain.target))"
   ],
   "metadata": {
    "collapsed": false,
    "pycharm": {
     "name": "#%%\n"
    }
   }
  },
  {
   "cell_type": "code",
   "execution_count": 5,
   "outputs": [
    {
     "name": "stdout",
     "output_type": "stream",
     "text": [
      "(1197, 18571)\n"
     ]
    }
   ],
   "source": [
    "CountVector = CountVectorizer()\n",
    "XTrainCounts = CountVector.fit_transform(DataTrain.data)  # 查看特征维度\n",
    "print(XTrainCounts.shape)"
   ],
   "metadata": {
    "collapsed": false,
    "pycharm": {
     "name": "#%%\n"
    }
   }
  },
  {
   "cell_type": "code",
   "execution_count": 16,
   "outputs": [],
   "source": [
    "# 文本中的词频率除以文本总词数\n",
    "TfTransformer = TfidfTransformer(use_idf=False).fit(XTrainCounts)\n",
    "XTrainNew = TfTransformer.transform(XTrainCounts)\n",
    "TfidfTransformer = TfidfTransformer()\n",
    "XTrainNewidf = TfidfTransformer.fit_transform(XTrainCounts)"
   ],
   "metadata": {
    "collapsed": false,
    "pycharm": {
     "name": "#%%\n"
    }
   }
  },
  {
   "cell_type": "code",
   "execution_count": 18,
   "outputs": [
    {
     "name": "stdout",
     "output_type": "stream",
     "text": [
      "精度为 99.66583124477862 %\n"
     ]
    }
   ],
   "source": [
    "NBC = MultinomialNB().fit(XTrainNewidf, DataTrain.target)\n",
    "\n",
    "NewsClassPred = NBC.predict(XTrainNewidf)\n",
    "acc = 100.0 * (DataTrain.target == NewsClassPred).sum() / XTrainNewidf.shape[0]\n",
    "print('精度为', acc, '%')"
   ],
   "metadata": {
    "collapsed": false,
    "pycharm": {
     "name": "#%%\n"
    }
   }
  },
  {
   "cell_type": "code",
   "execution_count": null,
   "outputs": [],
   "source": [],
   "metadata": {
    "collapsed": false,
    "pycharm": {
     "name": "#%%\n"
    }
   }
  }
 ],
 "metadata": {
  "kernelspec": {
   "display_name": "Python 3",
   "language": "python",
   "name": "python3"
  },
  "language_info": {
   "codemirror_mode": {
    "name": "ipython",
    "version": 2
   },
   "file_extension": ".py",
   "mimetype": "text/x-python",
   "name": "python",
   "nbconvert_exporter": "python",
   "pygments_lexer": "ipython2",
   "version": "2.7.6"
  }
 },
 "nbformat": 4,
 "nbformat_minor": 0
}