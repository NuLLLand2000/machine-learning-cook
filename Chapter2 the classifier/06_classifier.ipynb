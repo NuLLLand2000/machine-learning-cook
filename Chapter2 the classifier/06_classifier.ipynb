{
 "cells": [
  {
   "cell_type": "markdown",
   "source": [
    "# 创建分类器"
   ],
   "metadata": {
    "collapsed": false
   }
  },
  {
   "cell_type": "code",
   "execution_count": 23,
   "metadata": {
    "collapsed": true
   },
   "outputs": [],
   "source": [
    "import numpy as np\n",
    "from matplotlib import pyplot as plt\n",
    "from sklearn import linear_model as lm"
   ]
  },
  {
   "cell_type": "code",
   "execution_count": 18,
   "outputs": [],
   "source": [
    "X = np.array([[1, 2], [3, -5], [4, 6], [3, 4], [9, 0], [1, 5], [7, 3], [5, 9], [0, 6], [7, 0]])\n",
    "y = [1, 0, 1, 1, 0, 1, 0, 1, 1, 0]\n",
    "\n",
    "# 位于y = x以上的部分为1，以下的部分为0"
   ],
   "metadata": {
    "collapsed": false,
    "pycharm": {
     "name": "#%%\n"
    }
   }
  },
  {
   "cell_type": "code",
   "execution_count": 21,
   "outputs": [
    {
     "data": {
      "text/plain": "<Figure size 432x288 with 1 Axes>",
      "image/png": "[encoded data removed]"
     },
     "metadata": {
      "needs_background": "light"
     },
     "output_type": "display_data"
    }
   ],
   "source": [
    "# 把样本数据分成两类\n",
    "class_0 = np.array([X[i] for i in range(len(X)) if y[i]==0])\n",
    "class_1 = np.array([X[i] for i in range(len(X)) if y[i]==1])\n",
    "\n",
    "\n",
    "plt.scatter(class_0[:, 0], class_0[:, 1], color='black', marker='s')\n",
    "plt.scatter(class_1[:, 0], class_1[:, 1], color='red', marker='x')\n",
    "plt.plot([0, 10], [0, 10], linewidth=4)\n",
    "plt.show()"
   ],
   "metadata": {
    "collapsed": false,
    "pycharm": {
     "name": "#%%\n"
    }
   }
  },
  {
   "cell_type": "markdown",
   "source": [
    "## 创建分类器"
   ],
   "metadata": {
    "collapsed": false
   }
  },
  {
   "cell_type": "code",
   "execution_count": 24,
   "outputs": [
    {
     "data": {
      "text/plain": "LogisticRegression(C=100, solver='liblinear')"
     },
     "execution_count": 24,
     "metadata": {},
     "output_type": "execute_result"
    }
   ],
   "source": [
    "classifier = lm.LogisticRegression(solver='liblinear', C=100)  # 算法类型，正则化强度（越小强度越高）\n",
    "classifier.fit(X, y)"
   ],
   "metadata": {
    "collapsed": false,
    "pycharm": {
     "name": "#%%\n"
    }
   }
  },
  {
   "cell_type": "markdown",
   "source": [
    "## 画图"
   ],
   "metadata": {
    "collapsed": false
   }
  },
  {
   "cell_type": "code",
   "execution_count": 25,
   "outputs": [
    {
     "name": "stderr",
     "output_type": "stream",
     "text": [
      "/var/folders/3k/hd12ckqx7pj1sxt3j9q7qrsm0000gn/T/ipykernel_96734/1675083720.py:16: MatplotlibDeprecationWarning: shading='flat' when X and Y have the same dimensions as C is deprecated since 3.3.  Either specify the corners of the quadrilaterals with X and Y, or pass shading='auto', 'nearest' or 'gouraud', or set rcParams['pcolor.shading'].  This will become an error two minor releases later.\n",
      "  plt.pcolormesh(x_values, y_values, mesh_output, cmap=plt.cm.gray)\n"
     ]
    },
    {
     "data": {
      "text/plain": "<Figure size 432x288 with 1 Axes>",
      "image/png": "[encoded data removed]"
     },
     "metadata": {
      "needs_background": "light"
     },
     "output_type": "display_data"
    }
   ],
   "source": [
    "def plot_classifier(classifier, X, y):\n",
    "    # 定义图形取值范围\n",
    "    x_min, x_max = min(X[:, 0]) - 1, max(X[:, 0]) + 1\n",
    "    y_min, y_max = min(X[:, 1]) - 1, max(X[:, 1]) + 1\n",
    "\n",
    "    # 设置step\n",
    "    step_size = 0.01\n",
    "    # 定义网格\n",
    "    x_values, y_values = np.meshgrid(np.arange(x_min, x_max, step_size),\n",
    "                                     np.arange(y_min, y_max, step_size))\n",
    "    mesh_output = classifier.predict(np.c_[x_values.ravel(), y_values.ravel()])  # 计算分类器输出结果\n",
    "    mesh_output = mesh_output.reshape(x_values.shape)  # 数组维度变形\n",
    "\n",
    "    # 画出分类结果\n",
    "    plt.figure()\n",
    "    plt.pcolormesh(x_values, y_values, mesh_output, cmap=plt.cm.gray)\n",
    "    plt.scatter(X[:, 0], X[:, 1], c=y, s=80, edgecolors='black', linewidths=1, cmap=plt.cm.Paired)\n",
    "\n",
    "    # 图形取值范围\n",
    "    plt.xlim(x_values.min(), x_values.max())\n",
    "    plt.ylim(y_values.min(), y_values.max())\n",
    "\n",
    "    # 设置x，y轴\n",
    "    plt.xticks((np.arange(int(min(X[:, 0]) - 1), int(max(X[:, 0]) + 1), 1.0)))\n",
    "    plt.xticks((np.arange(int(min(X[:, 1]) - 1), int(max(X[:, 1]) + 1), 1.0)))\n",
    "\n",
    "    plt.show()\n",
    "\n",
    "plot_classifier(classifier, X, y)"
   ],
   "metadata": {
    "collapsed": false,
    "pycharm": {
     "name": "#%%\n"
    }
   }
  },
  {
   "cell_type": "code",
   "execution_count": null,
   "outputs": [],
   "source": [],
   "metadata": {
    "collapsed": false,
    "pycharm": {
     "name": "#%%\n"
    }
   }
  }
 ],
 "metadata": {
  "kernelspec": {
   "display_name": "Python 3",
   "language": "python",
   "name": "python3"
  },
  "language_info": {
   "codemirror_mode": {
    "name": "ipython",
    "version": 2
   },
   "file_extension": ".py",
   "mimetype": "text/x-python",
   "name": "python",
   "nbconvert_exporter": "python",
   "pygments_lexer": "ipython2",
   "version": "2.7.6"
  }
 },
 "nbformat": 4,
 "nbformat_minor": 0
}