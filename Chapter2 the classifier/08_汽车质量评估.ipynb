{
 "cells": [
  {
   "cell_type": "markdown",
   "source": [
    "# 汽车质量评估"
   ],
   "metadata": {
    "collapsed": false
   }
  },
  {
   "cell_type": "code",
   "execution_count": 33,
   "metadata": {
    "collapsed": true
   },
   "outputs": [],
   "source": [
    "from sklearn import preprocessing\n",
    "from sklearn.ensemble import RandomForestClassifier\n",
    "import numpy as np\n",
    "from sklearn.model_selection import cross_val_score\n",
    "import matplotlib.pyplot as plt\n",
    "from sklearn.model_selection import validation_curve"
   ]
  },
  {
   "cell_type": "code",
   "execution_count": 26,
   "outputs": [
    {
     "data": {
      "text/plain": "array([['vhigh', 'vhigh', '2', ..., 'small', 'low', 'unacc'],\n       ['vhigh', 'vhigh', '2', ..., 'small', 'med', 'unacc'],\n       ['vhigh', 'vhigh', '2', ..., 'small', 'high', 'unacc'],\n       ...,\n       ['low', 'low', '5more', ..., 'big', 'low', 'unacc'],\n       ['low', 'low', '5more', ..., 'big', 'med', 'good'],\n       ['low', 'low', '5more', ..., 'big', 'high', 'vgood']], dtype='<U5')"
     },
     "execution_count": 26,
     "metadata": {},
     "output_type": "execute_result"
    }
   ],
   "source": [
    "path = '../data/car.data.txt'\n",
    "X, count = [], 0\n",
    "with open(path, 'r') as f:\n",
    "    for line in f.readlines():\n",
    "        data = line[:-1].split(',')\n",
    "        X.append(data)\n",
    "X = np.array(X)\n",
    "X"
   ],
   "metadata": {
    "collapsed": false,
    "pycharm": {
     "name": "#%%\n"
    }
   }
  },
  {
   "cell_type": "code",
   "execution_count": 27,
   "outputs": [],
   "source": [
    "# 转换成数值\n",
    "X_encoded = np.empty(X.shape)  # 创建一个空矩阵，成为数值化的X矩阵\n",
    "label_encoder = []  # 存放标签编码器\n",
    "for i, item in enumerate(X[0]):\n",
    "    label_encoder.append(preprocessing.LabelEncoder())  # 对于7条特征中的每一条特征，都放一个编码器\n",
    "    X_encoded[:, i] = label_encoder[-1].fit_transform(X[:, i])  # 第i列的所有数值都是第i个编码器经过判断所有列生成的数值\n",
    "# 转化为int\n",
    "X = X_encoded[:, :-1].astype(int)  # 数据\n",
    "y = X_encoded[:, -1].astype(int)  # label"
   ],
   "metadata": {
    "collapsed": false,
    "pycharm": {
     "name": "#%%\n"
    }
   }
  },
  {
   "cell_type": "code",
   "execution_count": 28,
   "outputs": [
    {
     "data": {
      "text/plain": "RandomForestClassifier(max_depth=8, n_estimators=200, random_state=7)"
     },
     "execution_count": 28,
     "metadata": {},
     "output_type": "execute_result"
    }
   ],
   "source": [
    "# 训练分类器\n",
    "params = {\n",
    "    'n_estimators': 200,\n",
    "    'max_depth': 8,\n",
    "    'random_state': 7\n",
    "}\n",
    "cf = RandomForestClassifier(**params)\n",
    "cf.fit(X, y)"
   ],
   "metadata": {
    "collapsed": false,
    "pycharm": {
     "name": "#%%\n"
    }
   }
  },
  {
   "cell_type": "code",
   "execution_count": 29,
   "outputs": [
    {
     "name": "stdout",
     "output_type": "stream",
     "text": [
      "精度为 77.66203703703704 %\n"
     ]
    }
   ],
   "source": [
    "acc = cross_val_score(cf, X, y, scoring='accuracy', cv=3)\n",
    "print('精度为', 100 * acc.mean(), '%')"
   ],
   "metadata": {
    "collapsed": false,
    "pycharm": {
     "name": "#%%\n"
    }
   }
  },
  {
   "cell_type": "code",
   "execution_count": 32,
   "outputs": [
    {
     "name": "stdout",
     "output_type": "stream",
     "text": [
      "输出类型为 unacc\n"
     ]
    }
   ],
   "source": [
    "# three fold cross validation 把数据分3组,轮换着用其中两组数据验证分类器\n",
    "# 对单一数据编码测试\n",
    "input_data = ['vhigh', 'vhigh', '2', '2', 'small', 'low']\n",
    "input_data_encoded = [-1] * len(input_data)\n",
    "for i, item in enumerate(input_data):\n",
    "    input_data_encoded[i] = int(label_encoder[i].transform([input_data[i]]))\n",
    "\n",
    "input_data_encoded = np.array(input_data_encoded)\n",
    "\n",
    "op_class = cf.predict([input_data_encoded])\n",
    "print('输出类型为', label_encoder[-1].inverse_transform(op_class)[0])"
   ],
   "metadata": {
    "collapsed": false,
    "pycharm": {
     "name": "#%%\n"
    }
   }
  },
  {
   "cell_type": "markdown",
   "source": [
    "## 超参数验证曲线"
   ],
   "metadata": {
    "collapsed": false
   }
  },
  {
   "cell_type": "code",
   "execution_count": 36,
   "outputs": [
    {
     "name": "stdout",
     "output_type": "stream",
     "text": [
      "\n",
      "Param: n_estimators\n",
      "Training scores:\n",
      " [[0.80680174 0.80824891 0.80752533 0.80694143 0.81055676]\n",
      " [0.79522431 0.80535456 0.81041968 0.80911063 0.81055676]\n",
      " [0.80101302 0.80680174 0.81114327 0.81127983 0.81561822]\n",
      " [0.8024602  0.80535456 0.81186686 0.80911063 0.8076645 ]\n",
      " [0.80028944 0.80463097 0.81114327 0.8076645  0.81272596]\n",
      " [0.80390738 0.80535456 0.81041968 0.81127983 0.81706435]\n",
      " [0.80390738 0.80463097 0.81114327 0.81344902 0.81778742]\n",
      " [0.80390738 0.80607815 0.81114327 0.81344902 0.81778742]]\n",
      "\n",
      "Param: n_estimators\n",
      "Validation scores:\n",
      " [[0.71098266 0.76589595 0.72543353 0.76811594 0.73333333]\n",
      " [0.71098266 0.75433526 0.71965318 0.77101449 0.73333333]\n",
      " [0.71098266 0.72254335 0.71965318 0.76521739 0.73623188]\n",
      " [0.71098266 0.71387283 0.71965318 0.75942029 0.72753623]\n",
      " [0.71098266 0.74277457 0.71965318 0.75942029 0.74202899]\n",
      " [0.71098266 0.74277457 0.71965318 0.75942029 0.74782609]\n",
      " [0.71098266 0.74566474 0.71965318 0.75942029 0.74492754]\n",
      " [0.71098266 0.75144509 0.71965318 0.75942029 0.75072464]]\n"
     ]
    }
   ],
   "source": [
    "# 超参数验证曲线\n",
    "classifier = RandomForestClassifier(max_depth=4, random_state=7)\n",
    "parameter_grid = np.linspace(25, 200, 8).astype(int)\n",
    "train_scores, validation_scores = validation_curve(estimator=classifier,\n",
    "                                                   X=X,\n",
    "                                                   y=y,\n",
    "                                                   param_name='n_estimators',\n",
    "                                                   param_range=parameter_grid,\n",
    "                                                   cv=5)\n",
    "print(\"\\nParam: n_estimators\\nTraining scores:\\n\", train_scores)\n",
    "print(\"\\nParam: n_estimators\\nValidation scores:\\n\", validation_scores)"
   ],
   "metadata": {
    "collapsed": false,
    "pycharm": {
     "name": "#%%\n"
    }
   }
  },
  {
   "cell_type": "code",
   "execution_count": 37,
   "outputs": [
    {
     "data": {
      "text/plain": "<Figure size 432x288 with 1 Axes>",
      "image/png": "[encoded data removed]"
     },
     "metadata": {
      "needs_background": "light"
     },
     "output_type": "display_data"
    }
   ],
   "source": [
    "# plot the curve\n",
    "plt.figure()\n",
    "plt.plot(parameter_grid,\n",
    "         100 * np.average(train_scores, axis=1),\n",
    "         color='black')\n",
    "plt.title('Training curve')\n",
    "plt.xlabel('Number of estimators')\n",
    "plt.ylabel('Accuracy')\n",
    "plt.show()"
   ],
   "metadata": {
    "collapsed": false,
    "pycharm": {
     "name": "#%%\n"
    }
   }
  },
  {
   "cell_type": "code",
   "execution_count": 45,
   "outputs": [
    {
     "name": "stdout",
     "output_type": "stream",
     "text": [
      "\n",
      "Param: max_depth\n",
      "Training scores:\n",
      " [[0.71852388 0.70043415 0.70043415 0.69992769 0.69992769]\n",
      " [0.90665702 0.91027496 0.92836469 0.89949385 0.90310918]\n",
      " [1.         0.99638205 1.         1.         0.99855387]\n",
      " [1.         1.         1.         1.         1.        ]\n",
      " [1.         1.         1.         1.         1.        ]]\n",
      "\n",
      "Param: max_depth\n",
      "Validation scores:\n",
      " [[0.71098266 0.76589595 0.72543353 0.76811594 0.73333333]\n",
      " [0.71098266 0.75433526 0.71965318 0.77101449 0.73333333]\n",
      " [0.71098266 0.72254335 0.71965318 0.76521739 0.73623188]\n",
      " [0.71098266 0.71387283 0.71965318 0.75942029 0.72753623]\n",
      " [0.71098266 0.74277457 0.71965318 0.75942029 0.74202899]\n",
      " [0.71098266 0.74277457 0.71965318 0.75942029 0.74782609]\n",
      " [0.71098266 0.74566474 0.71965318 0.75942029 0.74492754]\n",
      " [0.71098266 0.75144509 0.71965318 0.75942029 0.75072464]]\n"
     ]
    }
   ],
   "source": [
    "# 聚焦到max_depth超参数\n",
    "# 固定n_estimator为20，查看最大深度造成的影响\n",
    "classifier = RandomForestClassifier(n_estimators=20, random_state=7)\n",
    "parameter_grid = np.linspace(2, 20, 5).astype(int)\n",
    "train_scores, valid_scores = validation_curve(estimator=classifier,\n",
    "                                              X=X,\n",
    "                                              y=y,\n",
    "                                              param_name=\"max_depth\",\n",
    "                                              param_range=parameter_grid,\n",
    "                                              cv=5)\n",
    "print(\"\\nParam: max_depth\\nTraining scores:\\n\", train_scores)\n",
    "print(\"\\nParam: max_depth\\nValidation scores:\\n\", validation_scores)"
   ],
   "metadata": {
    "collapsed": false,
    "pycharm": {
     "name": "#%%\n"
    }
   }
  },
  {
   "cell_type": "code",
   "execution_count": 46,
   "outputs": [
    {
     "data": {
      "text/plain": "<Figure size 432x288 with 1 Axes>",
      "image/png": "[encoded data removed]"
     },
     "metadata": {
      "needs_background": "light"
     },
     "output_type": "display_data"
    }
   ],
   "source": [
    "plt.figure()\n",
    "plt.plot(parameter_grid,\n",
    "         100*np.average(train_scores, axis=1),\n",
    "         color='black')\n",
    "plt.title('Validation curve')\n",
    "plt.xlabel('Maximum depth of the tree')\n",
    "plt.ylabel('Accuracy')\n",
    "plt.show()"
   ],
   "metadata": {
    "collapsed": false,
    "pycharm": {
     "name": "#%%\n"
    }
   }
  },
  {
   "cell_type": "markdown",
   "source": [],
   "metadata": {
    "collapsed": false
   }
  },
  {
   "cell_type": "markdown",
   "source": [
    "## 学习率曲线"
   ],
   "metadata": {
    "collapsed": false
   }
  },
  {
   "cell_type": "code",
   "execution_count": 49,
   "outputs": [
    {
     "name": "stdout",
     "output_type": "stream",
     "text": [
      "\n",
      "##### LEARNING CURVES #####\n",
      "\n",
      "Training scores:\n",
      " [[1. 1. 1. 1. 1.]\n",
      " [1. 1. 1. 1. 1.]\n",
      " [1. 1. 1. 1. 1.]\n",
      " [1. 1. 1. 1. 1.]\n",
      " [1. 1. 1. 1. 1.]\n",
      " [1. 1. 1. 1. 1.]\n",
      " [1. 1. 1. 1. 1.]]\n",
      "\n",
      "Validation scores:\n",
      " [[0.63294798 0.79190751 0.81213873 0.85507246 0.89565217]\n",
      " [0.70231214 0.78901734 0.82080925 0.85797101 0.89565217]\n",
      " [0.65317919 0.78901734 0.82369942 0.86086957 0.89565217]\n",
      " [0.64739884 0.78323699 0.82080925 0.85507246 0.89565217]\n",
      " [0.65317919 0.78323699 0.8150289  0.85797101 0.89565217]\n",
      " [0.64739884 0.78034682 0.82080925 0.85797101 0.89565217]\n",
      " [0.65606936 0.78323699 0.82080925 0.85217391 0.89565217]]\n"
     ]
    }
   ],
   "source": [
    "classifier = RandomForestClassifier(random_state=7)\n",
    "parameter_grid = np.array([200, 500, 800, 1100, 2000, 3000, 5000])\n",
    "train_scores, validation_scores = validation_curve(estimator=classifier,\n",
    "                                                   X=X,\n",
    "                                                   y=y,\n",
    "                                                   param_name=\"n_estimators\",\n",
    "                                                   param_range=parameter_grid,\n",
    "                                                   cv=5)\n",
    "print(\"\\n##### LEARNING CURVES #####\")\n",
    "print(\"\\nTraining scores:\\n\", train_scores)\n",
    "print(\"\\nValidation scores:\\n\", validation_scores)"
   ],
   "metadata": {
    "collapsed": false,
    "pycharm": {
     "name": "#%%\n"
    }
   }
  },
  {
   "cell_type": "code",
   "execution_count": 56,
   "outputs": [
    {
     "data": {
      "text/plain": "<Figure size 432x288 with 1 Axes>",
      "image/png": "[encoded data removed]"
     },
     "metadata": {
      "needs_background": "light"
     },
     "output_type": "display_data"
    }
   ],
   "source": [
    "plt.figure()\n",
    "plt.plot(parameter_grid, 100*np.average(validation_scores, axis=1), color='black')\n",
    "plt.title('Learning curve')\n",
    "plt.xlabel('Number of training samples')\n",
    "plt.ylabel('Accuracy')\n",
    "plt.show()"
   ],
   "metadata": {
    "collapsed": false,
    "pycharm": {
     "name": "#%%\n"
    }
   }
  }
 ],
 "metadata": {
  "kernelspec": {
   "display_name": "Python 3",
   "language": "python",
   "name": "python3"
  },
  "language_info": {
   "codemirror_mode": {
    "name": "ipython",
    "version": 2
   },
   "file_extension": ".py",
   "mimetype": "text/x-python",
   "name": "python",
   "nbconvert_exporter": "python",
   "pygments_lexer": "ipython2",
   "version": "2.7.6"
  }
 },
 "nbformat": 4,
 "nbformat_minor": 0
}