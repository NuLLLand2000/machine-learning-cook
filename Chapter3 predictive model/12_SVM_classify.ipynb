{
 "cells": [
  {
   "cell_type": "markdown",
   "source": [
    "# 实用支持向量机来建立线性分类器"
   ],
   "metadata": {
    "collapsed": false
   }
  },
  {
   "cell_type": "code",
   "execution_count": 4,
   "metadata": {
    "collapsed": true
   },
   "outputs": [],
   "source": [
    "import numpy as np\n",
    "from matplotlib import pyplot as plt\n",
    "from utilities import load_data\n",
    "from utilities import plot_classifier"
   ]
  },
  {
   "cell_type": "markdown",
   "source": [
    "## 查看原始数据"
   ],
   "metadata": {
    "collapsed": false
   }
  },
  {
   "cell_type": "code",
   "execution_count": 8,
   "outputs": [
    {
     "data": {
      "text/plain": "array([[4.58, 6.18],\n       [4.78, 5.28],\n       [4.74, 4.7 ],\n       [4.76, 4.47],\n       [3.64, 4.34],\n       [4.64, 6.39],\n       [4.75, 4.55],\n       [3.87, 5.82],\n       [4.04, 5.94],\n       [4.34, 4.91],\n       [5.56, 5.46],\n       [5.11, 4.9 ],\n       [6.26, 4.24],\n       [6.21, 4.37],\n       [5.72, 5.56],\n       [4.69, 4.11],\n       [4.56, 4.13],\n       [4.08, 4.9 ],\n       [3.9 , 5.26],\n       [5.12, 4.51],\n       [5.25, 5.69],\n       [6.04, 5.68],\n       [6.78, 3.6 ],\n       [5.16, 4.58],\n       [5.12, 3.9 ],\n       [4.41, 4.66],\n       [6.26, 6.06],\n       [5.  , 3.59],\n       [5.08, 5.17],\n       [4.81, 4.62],\n       [5.6 , 5.07],\n       [5.85, 3.9 ],\n       [5.33, 4.75],\n       [5.04, 3.54],\n       [3.37, 4.6 ],\n       [4.92, 5.1 ],\n       [6.15, 5.46],\n       [4.9 , 4.72],\n       [4.18, 6.12],\n       [4.83, 5.03],\n       [4.57, 3.83],\n       [4.77, 3.51],\n       [3.36, 6.74],\n       [5.55, 5.79],\n       [5.05, 4.51],\n       [4.73, 5.28],\n       [5.99, 4.69],\n       [6.31, 5.26],\n       [4.75, 4.91],\n       [5.67, 4.2 ],\n       [3.67, 6.25],\n       [6.08, 5.82],\n       [4.98, 4.81],\n       [6.01, 6.25],\n       [4.94, 5.12],\n       [4.48, 5.82],\n       [5.65, 6.46],\n       [3.45, 4.23],\n       [5.2 , 5.75],\n       [4.5 , 4.12],\n       [4.85, 5.76],\n       [4.57, 5.14],\n       [5.1 , 5.17],\n       [4.83, 5.09],\n       [5.84, 4.11],\n       [5.53, 4.58],\n       [4.71, 6.71],\n       [5.54, 5.63],\n       [4.74, 4.81],\n       [5.95, 6.86],\n       [4.82, 5.98],\n       [7.43, 5.33],\n       [4.75, 4.37],\n       [3.87, 3.43],\n       [4.39, 5.39],\n       [5.66, 4.97],\n       [4.96, 5.01],\n       [5.27, 4.79],\n       [5.42, 4.83],\n       [4.44, 4.32],\n       [5.34, 5.75],\n       [5.31, 4.98],\n       [4.53, 5.61],\n       [6.33, 4.23],\n       [6.53, 2.98],\n       [5.47, 5.98],\n       [4.54, 4.95],\n       [4.55, 5.3 ],\n       [5.01, 4.79],\n       [5.1 , 5.05],\n       [4.86, 5.81],\n       [3.89, 5.57],\n       [4.94, 6.53],\n       [5.51, 5.23],\n       [4.83, 3.56],\n       [5.5 , 4.34],\n       [5.74, 5.32],\n       [4.15, 6.18],\n       [5.06, 6.6 ],\n       [6.01, 4.03]])"
     },
     "execution_count": 8,
     "metadata": {},
     "output_type": "execute_result"
    }
   ],
   "source": [
    "file_path = '../data/data_multivar.txt'\n",
    "X, y = load_data(file_path)\n",
    "class_0 = np.array([X[i] for i in range(len(X)) if y[i] == 0])\n",
    "class_1 = np.array([X[i] for i in range(len(X)) if y[i] == 1])\n",
    "class_1"
   ],
   "metadata": {
    "collapsed": false,
    "pycharm": {
     "name": "#%%\n"
    }
   }
  },
  {
   "cell_type": "code",
   "execution_count": 9,
   "outputs": [
    {
     "data": {
      "text/plain": "<Figure size 432x288 with 1 Axes>",
      "image/png": "[encoded data removed]"
     },
     "metadata": {
      "needs_background": "light"
     },
     "output_type": "display_data"
    }
   ],
   "source": [
    "# 画图\n",
    "plt.figure()\n",
    "plt.scatter(class_0[:, 0], class_0[:, 1], facecolors='black', edgecolors='black', marker='s')\n",
    "plt.scatter(class_1[:, 0], class_1[:, 1], facecolors='None', edgecolors='black', marker='s')\n",
    "plt.title('Input Data')\n",
    "plt.show()"
   ],
   "metadata": {
    "collapsed": false,
    "pycharm": {
     "name": "#%%\n"
    }
   }
  },
  {
   "cell_type": "code",
   "execution_count": null,
   "outputs": [],
   "source": [],
   "metadata": {
    "collapsed": false,
    "pycharm": {
     "name": "#%%\n"
    }
   }
  }
 ],
 "metadata": {
  "kernelspec": {
   "display_name": "Python 3",
   "language": "python",
   "name": "python3"
  },
  "language_info": {
   "codemirror_mode": {
    "name": "ipython",
    "version": 2
   },
   "file_extension": ".py",
   "mimetype": "text/x-python",
   "name": "python",
   "nbconvert_exporter": "python",
   "pygments_lexer": "ipython2",
   "version": "2.7.6"
  }
 },
 "nbformat": 4,
 "nbformat_minor": 0
}